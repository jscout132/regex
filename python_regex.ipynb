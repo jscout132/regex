{
 "cells": [
  {
   "cell_type": "markdown",
   "metadata": {},
   "source": [
    "# Regular Expressions"
   ]
  },
  {
   "cell_type": "markdown",
   "metadata": {},
   "source": [
    "# Tasks today:\n",
    "1) <b>Importing</b> <br>\n",
    "2) <b>Using Regular Expressions</b> <br>\n",
    " &nbsp;&nbsp;&nbsp;&nbsp; a) re.compile() <br>\n",
    " &nbsp;&nbsp;&nbsp;&nbsp; b) re.match() <br>\n",
    " &nbsp;&nbsp;&nbsp;&nbsp; c) re.findall() <br>\n",
    " &nbsp;&nbsp;&nbsp;&nbsp; d) re.search() <br>\n",
    "3) <b>Sets</b> <br>\n",
    " &nbsp;&nbsp;&nbsp;&nbsp; a) Integer Ranges <br>\n",
    " &nbsp;&nbsp;&nbsp;&nbsp; b) Character Ranges <br>\n",
    "4) <b>Counting Occurences</b> <br>\n",
    " &nbsp;&nbsp;&nbsp;&nbsp; a) {x} <br>\n",
    " &nbsp;&nbsp;&nbsp;&nbsp; b) {, x} <br>\n",
    " &nbsp;&nbsp;&nbsp;&nbsp; c) {?} <br>\n",
    " &nbsp;&nbsp;&nbsp;&nbsp; d) {*} <br>\n",
    " &nbsp;&nbsp;&nbsp;&nbsp; e) {+} <br>\n",
    "5) <b>In-Class Exercise #1</b> <br>\n",
    "6) <b>Escaping Characters</b> <br>\n",
    "7) <b>Grouping</b> <br>\n",
    "8) <b>In-Class Exercise #2</b> <br>\n",
    "9) <b>Opening a File</b> <br>\n",
    " &nbsp;&nbsp;&nbsp;&nbsp; a) open() <br>\n",
    " &nbsp;&nbsp;&nbsp;&nbsp; b) with open() <br>\n",
    " &nbsp;&nbsp;&nbsp;&nbsp; c) re.match() <br>\n",
    " &nbsp;&nbsp;&nbsp;&nbsp; d) re.search() <br>\n",
    " &nbsp;&nbsp;&nbsp;&nbsp; e) Store the String in a Variable <br>\n",
    "10) <b>Regex Project</b> <br>"
   ]
  },
  {
   "cell_type": "markdown",
   "metadata": {},
   "source": [
    "### Importing <br>\n",
    "<p>Regular Expressions are universal throughout most programming languages... They are generally imported through the module 're'.</p>"
   ]
  },
  {
   "cell_type": "code",
   "execution_count": 1,
   "metadata": {},
   "outputs": [],
   "source": [
    "# import re\n",
    "import re"
   ]
  },
  {
   "cell_type": "markdown",
   "metadata": {},
   "source": [
    "### Using Regular Expressions <br>\n",
    "<p>Regular expressions give us the ability to search for patterns within text, strings, files, etc. They serve several uses, such as; security measures, searching, filtering, pattern recognition, and more...</p>"
   ]
  },
  {
   "cell_type": "markdown",
   "metadata": {},
   "source": [
    "##### re.compile()"
   ]
  },
  {
   "cell_type": "code",
   "execution_count": 387,
   "metadata": {},
   "outputs": [],
   "source": [
    "# using compile, pre determines the string to be used in regular expression methods\n",
    "\n",
    "pattern = re.compile('abcd')"
   ]
  },
  {
   "cell_type": "markdown",
   "metadata": {},
   "source": [
    "##### re.match()"
   ]
  },
  {
   "cell_type": "markdown",
   "metadata": {},
   "source": [
    "re.MatchObject.span() method returns a tuple containing starting and ending index of the matched string."
   ]
  },
  {
   "cell_type": "code",
   "execution_count": 388,
   "metadata": {},
   "outputs": [
    {
     "name": "stdout",
     "output_type": "stream",
     "text": [
      "<re.Match object; span=(0, 4), match='abcd'>\n",
      "<re.Match object; span=(0, 4), match='abcd'>\n",
      "<class 're.Match'>\n",
      "<class 're.Match'>\n",
      "(0, 4)\n",
      "(0, 4)\n"
     ]
    }
   ],
   "source": [
    "match1 = pattern.match('abcd123')\n",
    "match2 = re.match(pattern,'abcd123')\n",
    "print(match1)\n",
    "print(match2)\n",
    "print(type(match1))\n",
    "print(type(match2))\n",
    "# Accessing the span of the match\n",
    "print(match1.span())\n",
    "print(match2.span())\n"
   ]
  },
  {
   "cell_type": "markdown",
   "metadata": {},
   "source": [
    "##### re.findall()"
   ]
  },
  {
   "cell_type": "code",
   "execution_count": 403,
   "metadata": {},
   "outputs": [
    {
     "name": "stdout",
     "output_type": "stream",
     "text": [
      "['abcd', 'abcd', 'abcd', 'abcd']\n",
      "<re.Match object; span=(3, 7), match='abcd'>\n",
      "<re.Match object; span=(3, 7), match='abcd'> (3, 7)\n"
     ]
    }
   ],
   "source": [
    "abc='123abcd abcd123 abcd abcd abcabd'\n",
    "\n",
    "finders1 = pattern.findall('123abcd abcd123 abcd abcd abcabd')\n",
    "finder2 = pattern.search('123abcd abcd123 abcd abcd abcdabd')\n",
    "finder3 = re.search(pattern, abc)\n",
    "f3_span = finder3.span()\n",
    "print(finders1)\n",
    "print(finder2)\n",
    "print(finder3, f3_span)"
   ]
  },
  {
   "cell_type": "markdown",
   "metadata": {},
   "source": [
    "##### re.search()"
   ]
  },
  {
   "cell_type": "code",
   "execution_count": 389,
   "metadata": {},
   "outputs": [
    {
     "name": "stdout",
     "output_type": "stream",
     "text": [
      "<re.Match object; span=(4, 8), match='abcd'>\n",
      "(4, 8)\n",
      "abcd\n"
     ]
    }
   ],
   "source": [
    "# searches through random string to see if the pattern is in it\n",
    "# only finds the first occurance \n",
    "random_string = '123 abcd 123 234 abcd abcd'\n",
    "search = pattern.search(random_string)\n",
    "print(search)\n",
    "\n",
    "# prints the location of the pattern in the random string\n",
    "span = search.span()\n",
    "print(span)\n",
    "\n",
    "# prints just the part of the random string that matches the pattern\n",
    "# span only works like this if what you're searching through is it's own variable, as opposed to putting a string in\n",
    "# the () of findall, search, or match\n",
    "print(random_string[span[0]:span[1]])"
   ]
  },
  {
   "cell_type": "markdown",
   "metadata": {},
   "source": [
    "### Sets <br>\n",
    "<p>The following cells will allow you to use regular expressions to search for certain values within a range such as numbers 1 through 4.</p>"
   ]
  },
  {
   "cell_type": "markdown",
   "metadata": {},
   "source": [
    "##### [a-z] or [A-Z] - any lowercase/uppercase letters from a to z<br/>[^2] - anything that's not 2"
   ]
  },
  {
   "cell_type": "markdown",
   "metadata": {},
   "source": [
    "##### Integer Ranges"
   ]
  },
  {
   "cell_type": "code",
   "execution_count": 397,
   "metadata": {},
   "outputs": [
    {
     "name": "stdout",
     "output_type": "stream",
     "text": [
      "<re.Match object; span=(0, 3), match='678'>\n",
      "<re.Match object; span=(0, 3), match='482'>\n",
      "678\n"
     ]
    }
   ],
   "source": [
    "pattern_int = re.compile('[0-7][0-9][0-9]')\n",
    "\n",
    "random_nums1 = pattern_int.search('6783')\n",
    "random_nums2 = re.search(pattern_int,'482')\n",
    "print(random_nums1)\n",
    "print(random_nums2)\n",
    "span = random_nums1.span()\n",
    "print(random_nums1[span[0]])"
   ]
  },
  {
   "cell_type": "markdown",
   "metadata": {},
   "source": [
    "##### Character Ranges"
   ]
  },
  {
   "cell_type": "code",
   "execution_count": 37,
   "metadata": {},
   "outputs": [
    {
     "name": "stdout",
     "output_type": "stream",
     "text": [
      "['el', 'lo', 'th', 'er', 'nd', 'er', 'so']\n",
      "['He', 'Mr', 'An']\n"
     ]
    }
   ],
   "source": [
    "# the number of criteria in re.compile determines the number of \n",
    "# characters returned\n",
    "\n",
    "\n",
    "# this sets the criteria to look through a string to find all of the \n",
    "# instances of a capital letter followed by a lower case letter\n",
    "char_title = re.compile('[A-Z][a-z]')\n",
    "\n",
    "# this sets the criteria to look through a string and find all of the\n",
    "# lower case letters followed by lower case letters\n",
    "char_pattern = re.compile('[a-z][a-z]')\n",
    "found_lower = char_pattern.findall('Hello there Mr Anderson')\n",
    "found_upper = char_title.findall('Hello there Mr Anderson')\n",
    "print(found_lower)\n",
    "print(found_upper)"
   ]
  },
  {
   "cell_type": "markdown",
   "metadata": {},
   "source": [
    "### Counting Occurences"
   ]
  },
  {
   "cell_type": "markdown",
   "metadata": {},
   "source": [
    "##### {x} - something that occurs {num_of_times}"
   ]
  },
  {
   "cell_type": "code",
   "execution_count": 104,
   "metadata": {},
   "outputs": [
    {
     "name": "stdout",
     "output_type": "stream",
     "text": [
      "['An03']\n",
      "['Hel', 'And']\n"
     ]
    }
   ],
   "source": [
    "# in this case the {2} impacts the range directly before it and that's it\n",
    "example = re.compile('[A-Z][a-z][0-3]{2}')\n",
    "\n",
    "# in this case, it's looking for a capital letter followed by two lowercase letters\n",
    "second_ex = re.compile('[A-Z][a-z]{2}')\n",
    "\n",
    "found_count = example.findall('Hello Mr. An0333derson')\n",
    "found_count_two = second_ex.findall('Hello Mr Anderson')\n",
    "print(found_count)\n",
    "print(found_count_two)"
   ]
  },
  {
   "cell_type": "markdown",
   "metadata": {},
   "source": [
    "##### {x, y} - something that occurs between x and y times"
   ]
  },
  {
   "cell_type": "code",
   "execution_count": 263,
   "metadata": {},
   "outputs": [
    {
     "name": "stdout",
     "output_type": "stream",
     "text": [
      "['m', 'm', 'm', 'mm', 'mmmmm']\n"
     ]
    }
   ],
   "source": [
    "# if you're looking for a range of occurances, you need a coma\n",
    "random_pattern = re.compile('m{1,5}')\n",
    "\n",
    "random_statement = random_pattern.findall('this is an example of a regular expression trying to find one m, more than one mm, and up to five mmmmms')\n",
    "print(random_statement)"
   ]
  },
  {
   "cell_type": "markdown",
   "metadata": {},
   "source": [
    "##### ? - something that occurs 0 or 1 time"
   ]
  },
  {
   "cell_type": "code",
   "execution_count": 51,
   "metadata": {},
   "outputs": [
    {
     "name": "stdout",
     "output_type": "stream",
     "text": [
      "['Mr', 'Mrs']\n"
     ]
    }
   ],
   "source": [
    "# makes the last two letters optional because of the question marks\n",
    "pattern = re.compile('Mrs?s?')\n",
    "found_pattern = pattern.findall('hello Mr. anderson how is Mrs. anderson')\n",
    "\n",
    "print(found_pattern)\n"
   ]
  },
  {
   "cell_type": "markdown",
   "metadata": {},
   "source": [
    "##### * - something that occurs at least 0 times"
   ]
  },
  {
   "cell_type": "code",
   "execution_count": 52,
   "metadata": {},
   "outputs": [
    {
     "name": "stdout",
     "output_type": "stream",
     "text": [
      "['MMMs', 's', 'Ms', 's', 's', 's']\n"
     ]
    }
   ],
   "source": [
    "\n",
    "pattern_m = re.compile('M*s')\n",
    "\n",
    "found_m = pattern_m.findall('MMMs name is Ms. Smith. this is mmmms')\n",
    "print(found_m)"
   ]
  },
  {
   "cell_type": "markdown",
   "metadata": {},
   "source": [
    "##### + - something that occurs at least once"
   ]
  },
  {
   "cell_type": "code",
   "execution_count": 53,
   "metadata": {},
   "outputs": [
    {
     "name": "stdout",
     "output_type": "stream",
     "text": [
      "['MMMs', 'Ms']\n"
     ]
    }
   ],
   "source": [
    "pattern_again = re.compile('M+s')\n",
    "\n",
    "found_m = pattern_again.findall('MMMs name is Ms. Smith. this is mmmms')\n",
    "print(found_m)"
   ]
  },
  {
   "cell_type": "markdown",
   "metadata": {},
   "source": [
    "##### In-class exercise 1: \n",
    "\n",
    "Use a regular expression to find every number in the given string"
   ]
  },
  {
   "cell_type": "code",
   "execution_count": 55,
   "metadata": {},
   "outputs": [
    {
     "name": "stdout",
     "output_type": "stream",
     "text": [
      "['10909090', '1', '2']\n"
     ]
    }
   ],
   "source": [
    "num_finder = re.compile('[0-9]+')\n",
    "\n",
    "my_string = num_finder.findall('This string has 10909090 numbers, but it is only 1 string. I hope you solve this 2day.')\n",
    "print(my_string)\n",
    "\n",
    "# Output: ['10909090','1','2']"
   ]
  },
  {
   "cell_type": "markdown",
   "metadata": {},
   "source": [
    "### Escaping Characters"
   ]
  },
  {
   "cell_type": "markdown",
   "metadata": {},
   "source": [
    "##### \\w - look for any Unicode character<br/>\\W - look for anything that isnt a Unicode character\n",
    "\n",
    "[History on Unicode](http://unicode.org/standard/WhatIsUnicode.html)\n",
    "\n",
    "[More on Unicode Characters](https://en.wikipedia.org/wiki/List_of_Unicode_characters)"
   ]
  },
  {
   "cell_type": "code",
   "execution_count": 58,
   "metadata": {},
   "outputs": [
    {
     "name": "stdout",
     "output_type": "stream",
     "text": [
      "['this', 'is', '1', 'sentence', 'with', 'an', 'exclamation']\n",
      "[' ', ' ', ' ', '. ', ', ', ' ', '!']\n"
     ]
    }
   ],
   "source": [
    "pattern_1 = re.compile('[\\w]+')\n",
    "pattern_2 = re.compile('[\\W]+')\n",
    "\n",
    "found_1 = pattern_1.findall('this is 1 sentence. with an exclamation!')\n",
    "found_2 = pattern_2.findall('this is a sentence. with, an exclamation!')\n",
    "\n",
    "print(found_1)\n",
    "print(found_2)"
   ]
  },
  {
   "cell_type": "markdown",
   "metadata": {},
   "source": [
    "##### \\d - look for any digit 0-9<br/>\\D - look for anything that isnt a digit"
   ]
  },
  {
   "cell_type": "code",
   "execution_count": 116,
   "metadata": {},
   "outputs": [
    {
     "name": "stdout",
     "output_type": "stream",
     "text": [
      "['0th', '7th', '1st', '2nd', '3rd', '3days']\n",
      "['today is the ', 'th. in ', ' days it will be the ', 'th. ', 'st ', 'nd ', 'rd. note this ', 'days']\n"
     ]
    }
   ],
   "source": [
    "pattern_1 = re.compile('\\d{1}[a-z]+')\n",
    "pattern_2 = re.compile('[\\D]+')\n",
    "\n",
    "found_1 = pattern_1.findall('today is the 20th. in 7 days it will be the 27th. 1st 2nd 3rd. note this 3days')\n",
    "found_2 = pattern_2.findall('today is the 20th. in 7 days it will be the 27th. 1st 2nd 3rd. note this 3days')\n",
    "\n",
    "print(found_1)\n",
    "print(found_2)"
   ]
  },
  {
   "cell_type": "markdown",
   "metadata": {},
   "source": [
    "##### \\s - look for any white space<br/>\\S - look for anything that isnt whitespace"
   ]
  },
  {
   "cell_type": "code",
   "execution_count": 62,
   "metadata": {},
   "outputs": [
    {
     "name": "stdout",
     "output_type": "stream",
     "text": [
      "['are', 'you', 'afraid', 'of', 'the', 'dark']\n",
      "[' ', ' ', ' ', ' ', ' ']\n"
     ]
    }
   ],
   "source": [
    "patt_no_space = re.compile('\\S[a-z]+')\n",
    "patt_space = re.compile('\\s+')\n",
    "\n",
    "sentence = patt_no_space.findall('are you afraid of the dark?')\n",
    "sentence_2 = patt_space.findall('are you afraid of the dark?')\n",
    "\n",
    "# only brings back letters or spaces, not the ? because that's neither\n",
    "# a space or a letter\n",
    "print(sentence)\n",
    "print(sentence_2)"
   ]
  },
  {
   "cell_type": "markdown",
   "metadata": {},
   "source": [
    "##### \\b - look for boundaries or edges of a word<br/>\\B - look for anything that isnt a boundary"
   ]
  },
  {
   "cell_type": "code",
   "execution_count": 65,
   "metadata": {},
   "outputs": [
    {
     "name": "stdout",
     "output_type": "stream",
     "text": [
      "['TheCodingTemple']\n",
      "[]\n"
     ]
    }
   ],
   "source": [
    "# the r here is for r string- keeps it as a raw piece of text\n",
    "# keeps python from doing something like \\n for a new line\n",
    "pattern_bound = re.compile(r'\\bTheCodingTemple\\b')\n",
    "pattern_bound_none = re.compile('\\BTheCodingTemple\\B')\n",
    "\n",
    "found = pattern_bound.findall('TheCodingTemple')\n",
    "no_found = pattern_bound_none.findall('TheCodingTemple')\n",
    "print(found)\n",
    "print(no_found)"
   ]
  },
  {
   "cell_type": "markdown",
   "metadata": {},
   "source": [
    "### Grouping"
   ]
  },
  {
   "cell_type": "code",
   "execution_count": 165,
   "metadata": {},
   "outputs": [
    {
     "name": "stdout",
     "output_type": "stream",
     "text": [
      "('Max', 'Smith')\n",
      "('aaron', 'rodgers')\n",
      "('Sam', 'Darnold')\n",
      "('Bron', 'James')\n",
      "('Michael', 'Jordan')\n",
      "('Kevin', 'Durant')\n",
      "('Patrick', 'McCormick')\n"
     ]
    }
   ],
   "source": [
    "name_string = 'Max Smith, aaron rodgers, Sam Darnold,LeBron James, Michael Jordan, Kevin Durant, Patrick McCormick'\n",
    "\n",
    "#Group of names Regex compiler\n",
    "# this is saying to compile the names that start with a cap or lower letter\n",
    "# \n",
    "pattern_name = re.compile('([A-Za-z][a-z]+) ([A-Za-z][A-Za-z]+)')\n",
    "\n",
    "found_names = pattern_name.findall(name_string)\n",
    "# print(found_names)\n",
    "\n",
    "for name in name_string.split(','):\n",
    "    match = pattern_name.search(name)\n",
    "    \n",
    "    if match:\n",
    "        print(match.groups(2))\n",
    "    else:\n",
    "        print('not a name')"
   ]
  },
  {
   "cell_type": "code",
   "execution_count": 167,
   "metadata": {},
   "outputs": [
    {
     "name": "stdout",
     "output_type": "stream",
     "text": [
      "('Max', 'Smith')\n",
      "('aaron', 'rodgers')\n",
      "('Sam', 'Darnold')\n",
      "('Bron', 'James')\n",
      "('Michael', 'Jordan')\n",
      "('Kevin', 'Durant')\n",
      "('Patrick', 'McCormick')\n"
     ]
    }
   ],
   "source": [
    "name_list = ['Max Smith', 'aaron rodgers', 'Sam Darnold','LeBron James', 'Michael Jordan', 'Kevin Durant', 'Patrick McCormick']\n",
    "pattern_name = re.compile('([A-Za-z][a-z]+) ([A-Za-z][A-Za-z]+)')\n",
    "\n",
    "\n",
    "for name in name_list:\n",
    "    match = pattern_name.search(name)\n",
    "    \n",
    "    if match:\n",
    "        print(match.groups(2))\n",
    "    else:\n",
    "        print('None')\n"
   ]
  },
  {
   "cell_type": "markdown",
   "metadata": {},
   "source": [
    "##### In-class Exercise 2:\n",
    "\n",
    "Write a function using regular expressions to find the domain name in the given email addresses (and return None for the invalid email addresses)<br><b>HINT: Use '|' for either or</b>"
   ]
  },
  {
   "cell_type": "code",
   "execution_count": 229,
   "metadata": {},
   "outputs": [
    {
     "name": "stdout",
     "output_type": "stream",
     "text": [
      "None\n",
      "pocohontas1776@gmail.com\n",
      "None\n",
      "yourfavoriteband@g6.org\n",
      "None\n"
     ]
    }
   ],
   "source": [
    "my_emails = [\"jordanw@codingtemple.orgcom\", \"pocohontas1776@gmail.com\", \"helloworld@aol..com\",\n",
    "             \"yourfavoriteband@g6.org\", \"@codingtemple.com\"]\n",
    "\n",
    "# You can also use the $ at the end of your compile expression -- this stops the search\n",
    "email_criteria = re.compile(r'\\.[A-Za-z]{4,9}|\\.\\.|^\\W+')\n",
    "\n",
    "for email in my_emails:\n",
    "    match = email_criteria.findall(email)\n",
    "    \n",
    "    if match:\n",
    "        print('None')\n",
    "    else:\n",
    "        print(email)\n",
    "  \n"
   ]
  },
  {
   "cell_type": "markdown",
   "metadata": {},
   "source": [
    "### Opening a File <br>\n",
    "<p>Python gives us a couple ways to import files, below are the two used most often.</p>"
   ]
  },
  {
   "cell_type": "markdown",
   "metadata": {},
   "source": [
    "##### open()"
   ]
  },
  {
   "cell_type": "code",
   "execution_count": 405,
   "metadata": {},
   "outputs": [
    {
     "name": "stdout",
     "output_type": "stream",
     "text": [
      "data 1 Hawkins, Derek\tderek@codingtemple.com\t(555) 555-5555\tTeacher, Coding Temple\t@derekhawkins\n",
      "Zhai, Mo\tmozhai@codingtemple.com\t(555) 555-5554\tTeacher, Coding Temple\n",
      "Johnson, Joe\tjoejohnson@codingtemple.com\t\tJohson, Joe\n",
      "Osterberg, Sven-Erik\tgovernor@norrbotten.co.se\t\tGovernor, Norrbotten\t@sverik\n",
      ", Tim\ttim@killerrabbit.com\t\tEnchanter, Killer Rabbit Cave\n",
      "Butz, Ryan\tryanb@codingtemple.com\t(555) 555-5543\tCEO, Coding Temple\t@ryanbutz\n",
      "Doctor, The\tdoctor+companion@tardis.co.uk\t\tTime Lord, Gallifrey\n",
      "Exampleson, Example\tme@example.com\t555-555-5552\tExample, Example Co.\t@example\n",
      "Pael, Ripal\tripalp@codingtemple.com\t(555) 555-5553\tTeacher, Coding Temple\t@ripalp\n",
      "Vader, Darth\tdarth-vader@empire.gov\t(555) 555-4444\tSith Lord, Galactic Empire\t@darthvader\n",
      "Fernandez de la Vega Sanz, Maria Teresa\tmtfvs@spain.gov\t\tFirst Deputy Prime Minister, Spanish Gov\n",
      "\n",
      "data 2 \n",
      "[]\n"
     ]
    }
   ],
   "source": [
    "f = open('names.txt','r')\n",
    "data1 = f.read()\n",
    "data2 = f.readline()\n",
    "data3 = f.readlines()\n",
    "print('data 1', data1)\n",
    "print('data 2',f.readline())\n",
    "print(data3)\n",
    "\n",
    "\n"
   ]
  },
  {
   "cell_type": "markdown",
   "metadata": {},
   "source": [
    "##### with open()"
   ]
  },
  {
   "cell_type": "code",
   "execution_count": 404,
   "metadata": {},
   "outputs": [
    {
     "name": "stdout",
     "output_type": "stream",
     "text": [
      "Hawkins, Derek\tderek@codingtemple.com\t(555) 555-5555\tTeacher, Coding Temple\t@derekhawkins\n",
      "Zhai, Mo\tmozhai@codingtemple.com\t(555) 555-5554\tTeacher, Coding Temple\n",
      "Johnson, Joe\tjoejohnson@codingtemple.com\t\tJohson, Joe\n",
      "Osterberg, Sven-Erik\tgovernor@norrbotten.co.se\t\tGovernor, Norrbotten\t@sverik\n",
      ", Tim\ttim@killerrabbit.com\t\tEnchanter, Killer Rabbit Cave\n",
      "Butz, Ryan\tryanb@codingtemple.com\t(555) 555-5543\tCEO, Coding Temple\t@ryanbutz\n",
      "Doctor, The\tdoctor+companion@tardis.co.uk\t\tTime Lord, Gallifrey\n",
      "Exampleson, Example\tme@example.com\t555-555-5552\tExample, Example Co.\t@example\n",
      "Pael, Ripal\tripalp@codingtemple.com\t(555) 555-5553\tTeacher, Coding Temple\t@ripalp\n",
      "Vader, Darth\tdarth-vader@empire.gov\t(555) 555-4444\tSith Lord, Galactic Empire\t@darthvader\n",
      "Fernandez de la Vega Sanz, Maria Teresa\tmtfvs@spain.gov\t\tFirst Deputy Prime Minister, Spanish Gov\n",
      "\n"
     ]
    }
   ],
   "source": [
    "with open('names.txt') as f:\n",
    "    data = f.read()\n",
    "\n",
    "    print(data)"
   ]
  },
  {
   "cell_type": "markdown",
   "metadata": {},
   "source": [
    "##### re.match()"
   ]
  },
  {
   "cell_type": "code",
   "execution_count": 156,
   "metadata": {},
   "outputs": [
    {
     "name": "stdout",
     "output_type": "stream",
     "text": [
      "['Hawkins, Derek']\n",
      "<re.Match object; span=(0, 14), match='Hawkins, Derek'>\n",
      "<re.Match object; span=(0, 14), match='Hawkins, Derek'>\n"
     ]
    }
   ],
   "source": [
    "print(re.findall(r'Hawkins, Derek', data))\n",
    "print(re.match(r'Hawkins, Derek', data))\n",
    "print(re.search(r'Hawkins, Derek', data))"
   ]
  },
  {
   "cell_type": "markdown",
   "metadata": {},
   "source": [
    "##### re.search()"
   ]
  },
  {
   "cell_type": "code",
   "execution_count": 129,
   "metadata": {},
   "outputs": [
    {
     "name": "stdout",
     "output_type": "stream",
     "text": [
      "<re.Match object; span=(582, 605), match='ripalp@codingtemple.com'>\n"
     ]
    }
   ],
   "source": [
    "print(re.search(r'ripalp@codingtemple.com', data))"
   ]
  },
  {
   "cell_type": "markdown",
   "metadata": {},
   "source": [
    "##### Store the String to a Variable"
   ]
  },
  {
   "cell_type": "code",
   "execution_count": 283,
   "metadata": {},
   "outputs": [
    {
     "name": "stdout",
     "output_type": "stream",
     "text": [
      "what would you like to search: steve\n",
      "nothing here by that name\n",
      "Hawkins, Derek\tderek@codingtemple.com\t(555) 555-5555\tTeacher, Coding Temple\t@derekhawkins\n",
      "Zhai, Mo\tmozhai@codingtemple.com\t(555) 555-5554\tTeacher, Coding Temple\n",
      "Johnson, Joe\tjoejohnson@codingtemple.com\t\tJohson, Joe\n",
      "Osterberg, Sven-Erik\tgovernor@norrbotten.co.se\t\tGovernor, Norrbotten\t@sverik\n",
      ", Tim\ttim@killerrabbit.com\t\tEnchanter, Killer Rabbit Cave\n",
      "Butz, Ryan\tryanb@codingtemple.com\t(555) 555-5543\tCEO, Coding Temple\t@ryanbutz\n",
      "Doctor, The\tdoctor+companion@tardis.co.uk\t\tTime Lord, Gallifrey\n",
      "Exampleson, Example\tme@example.com\t555-555-5552\tExample, Example Co.\t@example\n",
      "Pael, Ripal\tripalp@codingtemple.com\t(555) 555-5553\tTeacher, Coding Temple\t@ripalp\n",
      "Vader, Darth\tdarth-vader@empire.gov\t(555) 555-4444\tSith Lord, Galactic Empire\t@darthvader\n",
      "Fernandez de la Vega Sanz, Maria Teresa\tmtfvs@spain.gov\t\tFirst Deputy Prime Minister, Spanish Gov\n",
      "\n"
     ]
    }
   ],
   "source": [
    "answer = input('what would you like to search: ')\n",
    "\n",
    "found = re.findall(answer, data)\n",
    "if found:\n",
    "    print(f'your data is {found}')\n",
    "else:\n",
    "    print('nothing here by that name')\n",
    "    \n",
    "print(data)"
   ]
  },
  {
   "cell_type": "markdown",
   "metadata": {},
   "source": [
    "### In-Class Exercise #3 <br>\n",
    "<p>Print each persons name and twitter handle, using groups, should look like:</p>\n",
    "<p>==============<br>\n",
    "   Full Name / Twitter<br>\n",
    "   ==============</p>\n",
    "Derek Hawkins / @derekhawkins\n",
    "\n",
    " Erik Sven-Osterberg / @sverik\n",
    "\n",
    " Ryan Butz / @ryanbutz\n",
    "\n",
    " Example Exampleson / @example\n",
    "\n",
    " Ripal Pael / @ripalp\n",
    "\n",
    " Darth Vader / @darthvader"
   ]
  },
  {
   "cell_type": "code",
   "execution_count": 507,
   "metadata": {},
   "outputs": [
    {
     "name": "stdout",
     "output_type": "stream",
     "text": [
      "Derek Hawkins / @derekhawkins\n",
      "Sven Osterberg / @sverik\n",
      "Ryan Butz / @ryanbutz\n",
      "Example Exampleson / @example\n",
      "Ripal Pael / @ripalp\n",
      "Darth Vader / @darthvader\n"
     ]
    }
   ],
   "source": [
    "# Using findall()\n",
    "import re\n",
    "\n",
    "f = open('names.txt')\n",
    "data = f.readlines()\n",
    "\n",
    "for info in data:\n",
    "    n_pattern = re.compile(r'(^\\w+)\\W\\s(\\w+)')\n",
    "    t_pattern = re.compile(r'(@\\w+$)')\n",
    "    \n",
    "    n_match = n_pattern.findall(info)\n",
    "    t_match = t_pattern.findall(info)\n",
    "    \n",
    "    if n_match and t_match:\n",
    "        print(n_match[0][1], n_match[0][0],'/', t_match[0])\n"
   ]
  },
  {
   "cell_type": "code",
   "execution_count": 552,
   "metadata": {},
   "outputs": [
    {
     "name": "stdout",
     "output_type": "stream",
     "text": [
      "Derek Hawkins / @derekhawkins\n",
      "Sven Osterberg / @sverik\n",
      "Ryan Butz / @ryanbutz\n",
      "Example Exampleson / @example\n",
      "Ripal Pael / @ripalp\n",
      "Darth Vader / @darthvader\n"
     ]
    }
   ],
   "source": [
    "# using match and group\n",
    "import re\n",
    "\n",
    "f = open('names.txt')\n",
    "data = f.readlines()\n",
    "\n",
    "for info in data:\n",
    "    group_match = re.match(r'(^\\w+)\\W\\s(\\w+).+(@\\w+$)',info)\n",
    "    if group_match:\n",
    "        print(group_match.group(2),group_match.group(1),'/',group_match.group(3))"
   ]
  },
  {
   "cell_type": "markdown",
   "metadata": {},
   "source": [
    "### Regex project\n",
    "\n",
    "Use python to read the file regex_test.txt and print the last name on each line using regular expressions and groups (return None for names with no first and last name, or names that aren't properly capitalized)\n",
    "##### Hint: use with open() and readlines()"
   ]
  },
  {
   "cell_type": "code",
   "execution_count": null,
   "metadata": {},
   "outputs": [],
   "source": [
    "\"\"\"\n",
    "Expected Output\n",
    "Abraham Lincoln\n",
    "Andrew P Garfield\n",
    "Connor Milliken\n",
    "Jordan Alexander Williams\n",
    "None\n",
    "None\n",
    "\"\"\""
   ]
  },
  {
   "cell_type": "code",
   "execution_count": 564,
   "metadata": {},
   "outputs": [
    {
     "name": "stdout",
     "output_type": "stream",
     "text": [
      "Abraham Lincoln\n",
      "Andrew P Garfield\n",
      "Connor Milliken\n",
      "Jordan Alexander\n",
      "None\n",
      "None\n"
     ]
    }
   ],
   "source": [
    "# the instructions said to print the last name, but the expected output included the full names\n",
    "# here's full name\n",
    "\n",
    "f = open('regex_test.txt', 'r')\n",
    "data_readlines = f.readlines()\n",
    "\n",
    "for name in data_readlines:\n",
    "    name_match = re.match(r'([A-Z]\\w+(\\s?[A-Z]?\\s?)\\s[A-Z]\\w+)',name)\n",
    "    if name_match:\n",
    "        print(name_match.group(0))\n",
    "    else:\n",
    "        print('None')\n",
    "        "
   ]
  },
  {
   "cell_type": "code",
   "execution_count": 562,
   "metadata": {},
   "outputs": [
    {
     "name": "stdout",
     "output_type": "stream",
     "text": [
      "Lincoln\n",
      "Garfield\n",
      "Milliken\n",
      "Williams\n",
      "None\n",
      "None\n"
     ]
    }
   ],
   "source": [
    "# here's just last name\n",
    "f = open('regex_test.txt', 'r')\n",
    "data_readlines = f.readlines()\n",
    "\n",
    "for name in data_readlines:\n",
    "    name_match = re.match(r'([A-Z]\\w+).*([A-Z]\\w+)',name)\n",
    "    if name_match:\n",
    "        print(name_match.group(2))\n",
    "    else:\n",
    "        print('None')"
   ]
  },
  {
   "cell_type": "code",
   "execution_count": null,
   "metadata": {},
   "outputs": [],
   "source": []
  }
 ],
 "metadata": {
  "kernelspec": {
   "display_name": "Python 3",
   "language": "python",
   "name": "python3"
  },
  "language_info": {
   "codemirror_mode": {
    "name": "ipython",
    "version": 3
   },
   "file_extension": ".py",
   "mimetype": "text/x-python",
   "name": "python",
   "nbconvert_exporter": "python",
   "pygments_lexer": "ipython3",
   "version": "3.11.1"
  },
  "vscode": {
   "interpreter": {
    "hash": "aee8b7b246df8f9039afb4144a1f6fd8d2ca17a180786b69acc140d282b71a49"
   }
  }
 },
 "nbformat": 4,
 "nbformat_minor": 2
}
